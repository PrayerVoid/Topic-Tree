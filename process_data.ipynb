{
 "cells": [
  {
   "cell_type": "markdown",
   "metadata": {},
   "source": [
    "读取数据"
   ]
  },
  {
   "cell_type": "code",
   "execution_count": 5,
   "metadata": {},
   "outputs": [
    {
     "name": "stderr",
     "output_type": "stream",
     "text": [
      "C:\\Users\\Vow\\AppData\\Local\\Temp\\ipykernel_16328\\2062096559.py:4: DtypeWarning: Columns (19) have mixed types. Specify dtype option on import or set low_memory=False.\n",
      "  original_data = pd.read_csv('01.Tweets.csv',index_col=0)\n"
     ]
    },
    {
     "name": "stdout",
     "output_type": "stream",
     "text": [
      "<class 'pandas.core.frame.DataFrame'>\n",
      "Index: 500710 entries, 0 to 500709\n",
      "Data columns (total 24 columns):\n",
      " #   Column              Non-Null Count   Dtype  \n",
      "---  ------              --------------   -----  \n",
      " 0   user_id             500710 non-null  float64\n",
      " 1   timestamp           500710 non-null  object \n",
      " 2   tweet_id            500710 non-null  int64  \n",
      " 3   sentiment_polarity  500661 non-null  float64\n",
      " 4   text_lang_ft        500661 non-null  object \n",
      " 5   text_normalized     500661 non-null  object \n",
      " 6   links               151685 non-null  object \n",
      " 7   hashtag             188848 non-null  object \n",
      " 8   hashtag_lang        188825 non-null  object \n",
      " 9   hashtag_en          188825 non-null  object \n",
      " 10  cashtag             1232 non-null    object \n",
      " 11  media               110293 non-null  object \n",
      " 12  image_url           103777 non-null  object \n",
      " 13  video_url           5637 non-null    object \n",
      " 14  GIF_url             858 non-null     object \n",
      " 15  likes               500710 non-null  int64  \n",
      " 16  retweets            500710 non-null  int64  \n",
      " 17  replies             500710 non-null  int64  \n",
      " 18  reply_to_user       67650 non-null   object \n",
      " 19  mentioned_users     152968 non-null  object \n",
      " 20  quoted_tweet        29868 non-null   float64\n",
      " 21  quoted_by_count     500710 non-null  int64  \n",
      " 22  credibility         151685 non-null  float64\n",
      " 23  tweet_source        500710 non-null  object \n",
      "dtypes: float64(4), int64(5), object(15)\n",
      "memory usage: 95.5+ MB\n"
     ]
    }
   ],
   "source": [
    "import pandas as pd\n",
    "import numpy as np\n",
    "\n",
    "original_data = pd.read_csv('01.Tweets.csv',index_col=0)\n",
    "original_data.info()"
   ]
  },
  {
   "cell_type": "markdown",
   "metadata": {},
   "source": [
    "选择需要的字段"
   ]
  },
  {
   "cell_type": "code",
   "execution_count": 6,
   "metadata": {},
   "outputs": [
    {
     "name": "stdout",
     "output_type": "stream",
     "text": [
      "<class 'pandas.core.frame.DataFrame'>\n",
      "Index: 500710 entries, 0 to 500709\n",
      "Data columns (total 12 columns):\n",
      " #   Column              Non-Null Count   Dtype  \n",
      "---  ------              --------------   -----  \n",
      " 0   user_id             500710 non-null  float64\n",
      " 1   timestamp           500710 non-null  object \n",
      " 2   tweet_id            500710 non-null  int64  \n",
      " 3   sentiment_polarity  500661 non-null  float64\n",
      " 4   text_normalized     500661 non-null  object \n",
      " 5   likes               500710 non-null  int64  \n",
      " 6   retweets            500710 non-null  int64  \n",
      " 7   replies             500710 non-null  int64  \n",
      " 8   reply_to_user       67650 non-null   object \n",
      " 9   quoted_tweet        29868 non-null   float64\n",
      " 10  quoted_by_count     500710 non-null  int64  \n",
      " 11  credibility         151685 non-null  float64\n",
      "dtypes: float64(4), int64(5), object(3)\n",
      "memory usage: 49.7+ MB\n"
     ]
    }
   ],
   "source": [
    "original_data=original_data[['user_id','timestamp','tweet_id','sentiment_polarity','text_normalized','likes','retweets','replies','reply_to_user','quoted_tweet','quoted_by_count','credibility']]\n",
    "original_data.info()"
   ]
  },
  {
   "cell_type": "markdown",
   "metadata": {},
   "source": [
    "数据类型转换"
   ]
  },
  {
   "cell_type": "code",
   "execution_count": 7,
   "metadata": {},
   "outputs": [
    {
     "data": {
      "text/html": [
       "<div>\n",
       "<style scoped>\n",
       "    .dataframe tbody tr th:only-of-type {\n",
       "        vertical-align: middle;\n",
       "    }\n",
       "\n",
       "    .dataframe tbody tr th {\n",
       "        vertical-align: top;\n",
       "    }\n",
       "\n",
       "    .dataframe thead th {\n",
       "        text-align: right;\n",
       "    }\n",
       "</style>\n",
       "<table border=\"1\" class=\"dataframe\">\n",
       "  <thead>\n",
       "    <tr style=\"text-align: right;\">\n",
       "      <th></th>\n",
       "      <th>user_id</th>\n",
       "      <th>timestamp</th>\n",
       "      <th>tweet_id</th>\n",
       "      <th>sentiment_polarity</th>\n",
       "      <th>text_normalized</th>\n",
       "      <th>likes</th>\n",
       "      <th>retweets</th>\n",
       "      <th>replies</th>\n",
       "      <th>reply_to_user</th>\n",
       "      <th>quoted_tweet</th>\n",
       "      <th>quoted_by_count</th>\n",
       "      <th>credibility</th>\n",
       "    </tr>\n",
       "  </thead>\n",
       "  <tbody>\n",
       "    <tr>\n",
       "      <th>0</th>\n",
       "      <td>116680494.0</td>\n",
       "      <td>2013-09-03 02:22:09</td>\n",
       "      <td>374718928682885121</td>\n",
       "      <td>0.2732</td>\n",
       "      <td>[nation, agree, build, new, silk, road, china,...</td>\n",
       "      <td>0</td>\n",
       "      <td>0</td>\n",
       "      <td>0</td>\n",
       "      <td>NaN</td>\n",
       "      <td>NaN</td>\n",
       "      <td>0</td>\n",
       "      <td>1</td>\n",
       "    </tr>\n",
       "    <tr>\n",
       "      <th>1</th>\n",
       "      <td>172576367.0</td>\n",
       "      <td>2013-09-03 02:22:11</td>\n",
       "      <td>374718937889402880</td>\n",
       "      <td>0.2732</td>\n",
       "      <td>[nation, agree, build, new, silk, road, china,...</td>\n",
       "      <td>0</td>\n",
       "      <td>0</td>\n",
       "      <td>0</td>\n",
       "      <td>NaN</td>\n",
       "      <td>NaN</td>\n",
       "      <td>0</td>\n",
       "      <td>1</td>\n",
       "    </tr>\n",
       "    <tr>\n",
       "      <th>2</th>\n",
       "      <td>154226261.0</td>\n",
       "      <td>2013-09-03 10:11:50</td>\n",
       "      <td>374837127873175553</td>\n",
       "      <td>0.0000</td>\n",
       "      <td>[high, speed, rail, china, new, silk, road, pe...</td>\n",
       "      <td>1</td>\n",
       "      <td>0</td>\n",
       "      <td>0</td>\n",
       "      <td>NaN</td>\n",
       "      <td>NaN</td>\n",
       "      <td>0</td>\n",
       "      <td>-1</td>\n",
       "    </tr>\n",
       "    <tr>\n",
       "      <th>3</th>\n",
       "      <td>61733677.0</td>\n",
       "      <td>2013-09-03 11:33:26</td>\n",
       "      <td>374857665735704576</td>\n",
       "      <td>0.2732</td>\n",
       "      <td>[nation, agree, build, new, silk, road]</td>\n",
       "      <td>0</td>\n",
       "      <td>0</td>\n",
       "      <td>0</td>\n",
       "      <td>NaN</td>\n",
       "      <td>NaN</td>\n",
       "      <td>0</td>\n",
       "      <td>-1</td>\n",
       "    </tr>\n",
       "    <tr>\n",
       "      <th>4</th>\n",
       "      <td>87775422.0</td>\n",
       "      <td>2013-09-03 20:10:51</td>\n",
       "      <td>374987876737765376</td>\n",
       "      <td>0.0000</td>\n",
       "      <td>[china, kazakhstan, tajikistan, russia, mongol...</td>\n",
       "      <td>2</td>\n",
       "      <td>6</td>\n",
       "      <td>0</td>\n",
       "      <td>NaN</td>\n",
       "      <td>NaN</td>\n",
       "      <td>0</td>\n",
       "      <td>0</td>\n",
       "    </tr>\n",
       "  </tbody>\n",
       "</table>\n",
       "</div>"
      ],
      "text/plain": [
       "       user_id           timestamp            tweet_id  sentiment_polarity  \\\n",
       "0  116680494.0 2013-09-03 02:22:09  374718928682885121              0.2732   \n",
       "1  172576367.0 2013-09-03 02:22:11  374718937889402880              0.2732   \n",
       "2  154226261.0 2013-09-03 10:11:50  374837127873175553              0.0000   \n",
       "3   61733677.0 2013-09-03 11:33:26  374857665735704576              0.2732   \n",
       "4   87775422.0 2013-09-03 20:10:51  374987876737765376              0.0000   \n",
       "\n",
       "                                     text_normalized  likes  retweets  \\\n",
       "0  [nation, agree, build, new, silk, road, china,...      0         0   \n",
       "1  [nation, agree, build, new, silk, road, china,...      0         0   \n",
       "2  [high, speed, rail, china, new, silk, road, pe...      1         0   \n",
       "3            [nation, agree, build, new, silk, road]      0         0   \n",
       "4  [china, kazakhstan, tajikistan, russia, mongol...      2         6   \n",
       "\n",
       "   replies  reply_to_user  quoted_tweet  quoted_by_count  credibility  \n",
       "0        0            NaN           NaN                0            1  \n",
       "1        0            NaN           NaN                0            1  \n",
       "2        0            NaN           NaN                0           -1  \n",
       "3        0            NaN           NaN                0           -1  \n",
       "4        0            NaN           NaN                0            0  "
      ]
     },
     "execution_count": 7,
     "metadata": {},
     "output_type": "execute_result"
    }
   ],
   "source": [
    "import ast\n",
    "\n",
    "original_data['timestamp'] = pd.to_datetime(original_data['timestamp'], utc=True).dt.tz_convert(None)\n",
    "original_data['text_normalized'] = original_data['text_normalized'].fillna('').apply(lambda x: ast.literal_eval(x) if x else [])\n",
    "#有个数据输出的时候自己重复了一遍，所以用replace单独处理掉\n",
    "original_data['reply_to_user'] = original_data['reply_to_user'].replace('15872418 15872418','15872418').astype(float)\n",
    "original_data['credibility'] = original_data['credibility'].fillna(-1).astype(int)\n",
    "# 找出带有空格的字符串字段\n",
    "def find_strings_with_spaces(df):\n",
    "    for column in df.select_dtypes(include=['object']).columns:\n",
    "        df[f'{column}_has_spaces'] = df[column].apply(lambda x: ' ' in x if isinstance(x, str) else False)\n",
    "\n",
    "find_strings_with_spaces(original_data)\n",
    "original_data.head()"
   ]
  },
  {
   "cell_type": "code",
   "execution_count": 8,
   "metadata": {},
   "outputs": [
    {
     "name": "stdout",
     "output_type": "stream",
     "text": [
      "<class 'pandas.core.frame.DataFrame'>\n",
      "Index: 500710 entries, 0 to 500709\n",
      "Data columns (total 12 columns):\n",
      " #   Column              Non-Null Count   Dtype         \n",
      "---  ------              --------------   -----         \n",
      " 0   user_id             500710 non-null  float64       \n",
      " 1   timestamp           500710 non-null  datetime64[ns]\n",
      " 2   tweet_id            500710 non-null  int64         \n",
      " 3   sentiment_polarity  500661 non-null  float64       \n",
      " 4   text_normalized     500710 non-null  object        \n",
      " 5   likes               500710 non-null  int64         \n",
      " 6   retweets            500710 non-null  int64         \n",
      " 7   replies             500710 non-null  int64         \n",
      " 8   reply_to_user       67650 non-null   float64       \n",
      " 9   quoted_tweet        29868 non-null   float64       \n",
      " 10  quoted_by_count     500710 non-null  int64         \n",
      " 11  credibility         500710 non-null  int32         \n",
      "dtypes: datetime64[ns](1), float64(4), int32(1), int64(5), object(1)\n",
      "memory usage: 47.8+ MB\n"
     ]
    }
   ],
   "source": [
    "original_data.info()"
   ]
  },
  {
   "cell_type": "code",
   "execution_count": 9,
   "metadata": {},
   "outputs": [],
   "source": [
    "original_data.to_csv('processed_data.csv')"
   ]
  }
 ],
 "metadata": {
  "kernelspec": {
   "display_name": "Python 3",
   "language": "python",
   "name": "python3"
  },
  "language_info": {
   "codemirror_mode": {
    "name": "ipython",
    "version": 3
   },
   "file_extension": ".py",
   "mimetype": "text/x-python",
   "name": "python",
   "nbconvert_exporter": "python",
   "pygments_lexer": "ipython3",
   "version": "3.11.5"
  }
 },
 "nbformat": 4,
 "nbformat_minor": 2
}
